{
 "cells": [
  {
   "cell_type": "code",
   "execution_count": 1,
   "metadata": {},
   "outputs": [],
   "source": [
    "import numpy as np\n",
    "import pandas as pd\n",
    "import matplotlib.pyplot as plt\n",
    "import seaborn as sns"
   ]
  },
  {
   "cell_type": "code",
   "execution_count": 2,
   "metadata": {},
   "outputs": [],
   "source": [
    "from sklearn.model_selection import train_test_split,GridSearchCV,KFold\n",
    "from sklearn import preprocessing\n",
    "from sklearn.ensemble import RandomForestClassifier,GradientBoostingClassifier\n",
    "from sklearn import metrics"
   ]
  },
  {
   "cell_type": "code",
   "execution_count": 3,
   "metadata": {
    "scrolled": true
   },
   "outputs": [
    {
     "data": {
      "text/html": [
       "<div>\n",
       "<style scoped>\n",
       "    .dataframe tbody tr th:only-of-type {\n",
       "        vertical-align: middle;\n",
       "    }\n",
       "\n",
       "    .dataframe tbody tr th {\n",
       "        vertical-align: top;\n",
       "    }\n",
       "\n",
       "    .dataframe thead th {\n",
       "        text-align: right;\n",
       "    }\n",
       "</style>\n",
       "<table border=\"1\" class=\"dataframe\">\n",
       "  <thead>\n",
       "    <tr style=\"text-align: right;\">\n",
       "      <th></th>\n",
       "      <th>Success</th>\n",
       "      <th>budget</th>\n",
       "      <th>genres</th>\n",
       "      <th>keywords</th>\n",
       "      <th>popularity</th>\n",
       "      <th>production_companies</th>\n",
       "      <th>release_date</th>\n",
       "      <th>runtime</th>\n",
       "      <th>vote_average</th>\n",
       "      <th>vote_count</th>\n",
       "      <th>...</th>\n",
       "      <th>productions_double A Films</th>\n",
       "      <th>productions_icon</th>\n",
       "      <th>productions_nWave Pictures</th>\n",
       "      <th>productions_platinum studios</th>\n",
       "      <th>productions_thefyzz</th>\n",
       "      <th>productions_thinkfilm</th>\n",
       "      <th>productions_uFilm</th>\n",
       "      <th>productions_unafilm</th>\n",
       "      <th>productions_warner bross Turkey</th>\n",
       "      <th>productions_Österreichischer Rundfunk (ORF)</th>\n",
       "    </tr>\n",
       "  </thead>\n",
       "  <tbody>\n",
       "    <tr>\n",
       "      <th>0</th>\n",
       "      <td>1</td>\n",
       "      <td>237000000</td>\n",
       "      <td>['Action', 'Adventure', 'Fantasy', 'Science Fi...</td>\n",
       "      <td>['culture clash', 'future', 'space war', 'spac...</td>\n",
       "      <td>150.437577</td>\n",
       "      <td>['Ingenious Film Partners', 'Twentieth Century...</td>\n",
       "      <td>12/10/2009</td>\n",
       "      <td>162</td>\n",
       "      <td>7.2</td>\n",
       "      <td>11800</td>\n",
       "      <td>...</td>\n",
       "      <td>0</td>\n",
       "      <td>0</td>\n",
       "      <td>0</td>\n",
       "      <td>0</td>\n",
       "      <td>0</td>\n",
       "      <td>0</td>\n",
       "      <td>0</td>\n",
       "      <td>0</td>\n",
       "      <td>0</td>\n",
       "      <td>0</td>\n",
       "    </tr>\n",
       "    <tr>\n",
       "      <th>1</th>\n",
       "      <td>1</td>\n",
       "      <td>300000000</td>\n",
       "      <td>['Adventure', 'Fantasy', 'Action']</td>\n",
       "      <td>['ocean', 'drug abuse', 'exotic island', 'east...</td>\n",
       "      <td>139.082615</td>\n",
       "      <td>['Walt Disney Pictures', 'Jerry Bruckheimer Fi...</td>\n",
       "      <td>5/19/2007</td>\n",
       "      <td>169</td>\n",
       "      <td>6.9</td>\n",
       "      <td>4500</td>\n",
       "      <td>...</td>\n",
       "      <td>0</td>\n",
       "      <td>0</td>\n",
       "      <td>0</td>\n",
       "      <td>0</td>\n",
       "      <td>0</td>\n",
       "      <td>0</td>\n",
       "      <td>0</td>\n",
       "      <td>0</td>\n",
       "      <td>0</td>\n",
       "      <td>0</td>\n",
       "    </tr>\n",
       "    <tr>\n",
       "      <th>2</th>\n",
       "      <td>1</td>\n",
       "      <td>245000000</td>\n",
       "      <td>['Action', 'Adventure', 'Crime']</td>\n",
       "      <td>['spy', 'based on novel', 'secret agent', 'seq...</td>\n",
       "      <td>107.376788</td>\n",
       "      <td>['Columbia Pictures', 'Danjaq', 'B24']</td>\n",
       "      <td>10/26/2015</td>\n",
       "      <td>148</td>\n",
       "      <td>6.3</td>\n",
       "      <td>4466</td>\n",
       "      <td>...</td>\n",
       "      <td>0</td>\n",
       "      <td>0</td>\n",
       "      <td>0</td>\n",
       "      <td>0</td>\n",
       "      <td>0</td>\n",
       "      <td>0</td>\n",
       "      <td>0</td>\n",
       "      <td>0</td>\n",
       "      <td>0</td>\n",
       "      <td>0</td>\n",
       "    </tr>\n",
       "    <tr>\n",
       "      <th>3</th>\n",
       "      <td>1</td>\n",
       "      <td>250000000</td>\n",
       "      <td>['Action', 'Crime', 'Drama', 'Thriller']</td>\n",
       "      <td>['dc comics', 'crime fighter', 'terrorist', 's...</td>\n",
       "      <td>112.312950</td>\n",
       "      <td>['Legendary Pictures', 'Warner Bros.', 'DC Ent...</td>\n",
       "      <td>7/16/2012</td>\n",
       "      <td>165</td>\n",
       "      <td>7.6</td>\n",
       "      <td>9106</td>\n",
       "      <td>...</td>\n",
       "      <td>0</td>\n",
       "      <td>0</td>\n",
       "      <td>0</td>\n",
       "      <td>0</td>\n",
       "      <td>0</td>\n",
       "      <td>0</td>\n",
       "      <td>0</td>\n",
       "      <td>0</td>\n",
       "      <td>0</td>\n",
       "      <td>0</td>\n",
       "    </tr>\n",
       "    <tr>\n",
       "      <th>4</th>\n",
       "      <td>0</td>\n",
       "      <td>260000000</td>\n",
       "      <td>['Action', 'Adventure', 'Science Fiction']</td>\n",
       "      <td>['based on novel', 'mars', 'medallion', 'space...</td>\n",
       "      <td>43.926995</td>\n",
       "      <td>['Walt Disney Pictures']</td>\n",
       "      <td>3/7/2012</td>\n",
       "      <td>132</td>\n",
       "      <td>6.1</td>\n",
       "      <td>2124</td>\n",
       "      <td>...</td>\n",
       "      <td>0</td>\n",
       "      <td>0</td>\n",
       "      <td>0</td>\n",
       "      <td>0</td>\n",
       "      <td>0</td>\n",
       "      <td>0</td>\n",
       "      <td>0</td>\n",
       "      <td>0</td>\n",
       "      <td>0</td>\n",
       "      <td>0</td>\n",
       "    </tr>\n",
       "  </tbody>\n",
       "</table>\n",
       "<p>5 rows × 4220 columns</p>\n",
       "</div>"
      ],
      "text/plain": [
       "   Success     budget                                             genres  \\\n",
       "0        1  237000000  ['Action', 'Adventure', 'Fantasy', 'Science Fi...   \n",
       "1        1  300000000                 ['Adventure', 'Fantasy', 'Action']   \n",
       "2        1  245000000                   ['Action', 'Adventure', 'Crime']   \n",
       "3        1  250000000           ['Action', 'Crime', 'Drama', 'Thriller']   \n",
       "4        0  260000000         ['Action', 'Adventure', 'Science Fiction']   \n",
       "\n",
       "                                            keywords  popularity  \\\n",
       "0  ['culture clash', 'future', 'space war', 'spac...  150.437577   \n",
       "1  ['ocean', 'drug abuse', 'exotic island', 'east...  139.082615   \n",
       "2  ['spy', 'based on novel', 'secret agent', 'seq...  107.376788   \n",
       "3  ['dc comics', 'crime fighter', 'terrorist', 's...  112.312950   \n",
       "4  ['based on novel', 'mars', 'medallion', 'space...   43.926995   \n",
       "\n",
       "                                production_companies release_date  runtime  \\\n",
       "0  ['Ingenious Film Partners', 'Twentieth Century...   12/10/2009      162   \n",
       "1  ['Walt Disney Pictures', 'Jerry Bruckheimer Fi...    5/19/2007      169   \n",
       "2             ['Columbia Pictures', 'Danjaq', 'B24']   10/26/2015      148   \n",
       "3  ['Legendary Pictures', 'Warner Bros.', 'DC Ent...    7/16/2012      165   \n",
       "4                           ['Walt Disney Pictures']     3/7/2012      132   \n",
       "\n",
       "   vote_average  vote_count  ...  productions_double A Films  \\\n",
       "0           7.2       11800  ...                           0   \n",
       "1           6.9        4500  ...                           0   \n",
       "2           6.3        4466  ...                           0   \n",
       "3           7.6        9106  ...                           0   \n",
       "4           6.1        2124  ...                           0   \n",
       "\n",
       "   productions_icon  productions_nWave Pictures  productions_platinum studios  \\\n",
       "0                 0                           0                             0   \n",
       "1                 0                           0                             0   \n",
       "2                 0                           0                             0   \n",
       "3                 0                           0                             0   \n",
       "4                 0                           0                             0   \n",
       "\n",
       "   productions_thefyzz  productions_thinkfilm  productions_uFilm  \\\n",
       "0                    0                      0                  0   \n",
       "1                    0                      0                  0   \n",
       "2                    0                      0                  0   \n",
       "3                    0                      0                  0   \n",
       "4                    0                      0                  0   \n",
       "\n",
       "   productions_unafilm  productions_warner bross Turkey  \\\n",
       "0                    0                                0   \n",
       "1                    0                                0   \n",
       "2                    0                                0   \n",
       "3                    0                                0   \n",
       "4                    0                                0   \n",
       "\n",
       "   productions_Österreichischer Rundfunk (ORF)  \n",
       "0                                            0  \n",
       "1                                            0  \n",
       "2                                            0  \n",
       "3                                            0  \n",
       "4                                            0  \n",
       "\n",
       "[5 rows x 4220 columns]"
      ]
     },
     "execution_count": 3,
     "metadata": {},
     "output_type": "execute_result"
    }
   ],
   "source": [
    "df = pd.read_csv(\"tmdb_clean_Di_V2.csv\").drop(columns=[\"revenue\"])\n",
    "df.head(5)\n"
   ]
  },
  {
   "cell_type": "code",
   "execution_count": 4,
   "metadata": {},
   "outputs": [],
   "source": [
    "df = df.drop(columns=[\"genres\", \"keywords\", \"production_companies\", \"release_date\"])"
   ]
  },
  {
   "cell_type": "code",
   "execution_count": 5,
   "metadata": {},
   "outputs": [
    {
     "data": {
      "text/plain": [
       "(3764, 4216)"
      ]
     },
     "execution_count": 5,
     "metadata": {},
     "output_type": "execute_result"
    }
   ],
   "source": [
    "df.shape"
   ]
  },
  {
   "cell_type": "code",
   "execution_count": 6,
   "metadata": {},
   "outputs": [
    {
     "data": {
      "image/png": "[encoded data removed]",
      "text/plain": [
       "<Figure size 432x288 with 1 Axes>"
      ]
     },
     "metadata": {
      "needs_background": "light"
     },
     "output_type": "display_data"
    }
   ],
   "source": [
    "plt.hist(df.runtime,bins=30)\n",
    "plt.xlabel(\"Runtime\")\n",
    "plt.ylabel(\"Count\")\n",
    "plt.show()"
   ]
  },
  {
   "cell_type": "code",
   "execution_count": 7,
   "metadata": {},
   "outputs": [
    {
     "name": "stdout",
     "output_type": "stream",
     "text": [
      "Train (3011, 4215) (3011,)\n",
      "Test (753, 4215) (753,)\n"
     ]
    }
   ],
   "source": [
    "#split the data with 80% for trainnig data and 20% for testing data.\n",
    "\n",
    "y = df[\"Success\"]\n",
    "x = df.drop(\"Success\",axis=1)\n",
    "\n",
    "x_train, x_test, y_train, y_test = train_test_split(x, y, test_size=0.2,random_state=1)\n",
    "print('Train', x_train.shape, y_train.shape)\n",
    "print('Test', x_test.shape, y_test.shape)"
   ]
  },
  {
   "cell_type": "markdown",
   "metadata": {},
   "source": [
    "## RandomForestClassifier"
   ]
  },
  {
   "cell_type": "code",
   "execution_count": 8,
   "metadata": {},
   "outputs": [],
   "source": [
    "clf=RandomForestClassifier()\n",
    "clf.fit(x_train,y_train)\n",
    "y_pred=clf.predict(x_train)"
   ]
  },
  {
   "cell_type": "code",
   "execution_count": 9,
   "metadata": {},
   "outputs": [
    {
     "name": "stdout",
     "output_type": "stream",
     "text": [
      "training error is  0.0\n"
     ]
    }
   ],
   "source": [
    "print(\"training error is \",1- metrics.accuracy_score(y_train, y_pred))"
   ]
  },
  {
   "cell_type": "code",
   "execution_count": 10,
   "metadata": {},
   "outputs": [
    {
     "name": "stdout",
     "output_type": "stream",
     "text": [
      "training error is  0.20849933598937587\n"
     ]
    }
   ],
   "source": [
    "y_pred_test=clf.predict(x_test)\n",
    "print(\"training error is \",1- metrics.accuracy_score(y_test, y_pred_test))"
   ]
  },
  {
   "cell_type": "code",
   "execution_count": 11,
   "metadata": {
    "scrolled": true
   },
   "outputs": [
    {
     "data": {
      "text/plain": [
       "vote_count                                            0.116551\n",
       "popularity                                            0.099317\n",
       "vote_average                                          0.075545\n",
       "budget                                                0.063336\n",
       "runtime                                               0.049235\n",
       "genres_Comedy                                         0.009730\n",
       "genres_Drama                                          0.009585\n",
       "genres_Action                                         0.008796\n",
       "genres_Romance                                        0.008145\n",
       "genres_Thriller                                       0.008060\n",
       "genres_Adventure                                      0.007803\n",
       "genres_Science Fiction                                0.007327\n",
       "genres_Crime                                          0.006972\n",
       "genres_Fantasy                                        0.006931\n",
       "productions_Universal Pictures                        0.006898\n",
       "productions_Paramount Pictures                        0.006150\n",
       "productions_Twentieth Century Fox Film Corporation    0.005995\n",
       "genres_Horror                                         0.005566\n",
       "genres_Family                                         0.005539\n",
       "productions_Warner Bros.                              0.005485\n",
       "dtype: float64"
      ]
     },
     "execution_count": 11,
     "metadata": {},
     "output_type": "execute_result"
    }
   ],
   "source": [
    "feature_imp = pd.Series(clf.feature_importances_,index=x.columns).sort_values(ascending=False)\n",
    "feature_imp[:20]"
   ]
  },
  {
   "cell_type": "code",
   "execution_count": 35,
   "metadata": {},
   "outputs": [
    {
     "data": {
      "text/plain": [
       "<BarContainer object of 25 artists>"
      ]
     },
     "execution_count": 35,
     "metadata": {},
     "output_type": "execute_result"
    },
    {
     "data": {
      "image/png": "[encoded data removed]",
      "text/plain": [
       "<Figure size 1296x720 with 1 Axes>"
      ]
     },
     "metadata": {
      "needs_background": "light"
     },
     "output_type": "display_data"
    }
   ],
   "source": [
    "\n",
    "plt.subplots(figsize=(18,10))\n",
    "plt.barh(top_25_features[::-1], feature_imp[:25][::-1])"
   ]
  },
  {
   "cell_type": "code",
   "execution_count": 32,
   "metadata": {},
   "outputs": [
    {
     "data": {
      "text/plain": [
       "['productions_Eon Productions',\n",
       " 'productions_United Artists',\n",
       " 'genres_Music',\n",
       " 'productions_New Line Cinema',\n",
       " 'genres_Mystery',\n",
       " 'productions_Warner Bros.',\n",
       " 'genres_Family',\n",
       " 'genres_Horror',\n",
       " 'productions_Twentieth Century Fox Film Corporation',\n",
       " 'productions_Paramount Pictures',\n",
       " 'productions_Universal Pictures',\n",
       " 'genres_Fantasy',\n",
       " 'genres_Crime',\n",
       " 'genres_Science Fiction',\n",
       " 'genres_Adventure',\n",
       " 'genres_Thriller',\n",
       " 'genres_Romance',\n",
       " 'genres_Action',\n",
       " 'genres_Drama',\n",
       " 'genres_Comedy',\n",
       " 'runtime',\n",
       " 'budget',\n",
       " 'vote_average',\n",
       " 'popularity',\n",
       " 'vote_count']"
      ]
     },
     "execution_count": 32,
     "metadata": {},
     "output_type": "execute_result"
    }
   ],
   "source": [
    "top_25_features[::-1]"
   ]
  },
  {
   "cell_type": "code",
   "execution_count": 37,
   "metadata": {
    "scrolled": true
   },
   "outputs": [
    {
     "data": {
      "text/plain": [
       "(0.0, 0.15)"
      ]
     },
     "execution_count": 37,
     "metadata": {},
     "output_type": "execute_result"
    },
    {
     "data": {
      "image/png": "[encoded data removed]",
      "text/plain": [
       "<Figure size 432x288 with 1 Axes>"
      ]
     },
     "metadata": {
      "needs_background": "light"
     },
     "output_type": "display_data"
    }
   ],
   "source": [
    "plt.scatter(range(x_train.shape[1]), feature_imp)\n",
    "plt.xlim(0,100)\n",
    "plt.ylim(0,0.15)"
   ]
  },
  {
   "cell_type": "code",
   "execution_count": 13,
   "metadata": {
    "scrolled": true
   },
   "outputs": [
    {
     "data": {
      "text/plain": [
       "['vote_count',\n",
       " 'popularity',\n",
       " 'vote_average',\n",
       " 'budget',\n",
       " 'runtime',\n",
       " 'genres_Comedy',\n",
       " 'genres_Drama',\n",
       " 'genres_Action',\n",
       " 'genres_Romance',\n",
       " 'genres_Thriller',\n",
       " 'genres_Adventure',\n",
       " 'genres_Science Fiction',\n",
       " 'genres_Crime',\n",
       " 'genres_Fantasy',\n",
       " 'productions_Universal Pictures',\n",
       " 'productions_Paramount Pictures',\n",
       " 'productions_Twentieth Century Fox Film Corporation',\n",
       " 'genres_Horror',\n",
       " 'genres_Family',\n",
       " 'productions_Warner Bros.',\n",
       " 'genres_Mystery',\n",
       " 'productions_New Line Cinema',\n",
       " 'genres_Music',\n",
       " 'productions_United Artists',\n",
       " 'productions_Eon Productions']"
      ]
     },
     "execution_count": 13,
     "metadata": {},
     "output_type": "execute_result"
    }
   ],
   "source": [
    "top_25_features = list(feature_imp[:25].index)\n",
    "top_25_features"
   ]
  },
  {
   "cell_type": "code",
   "execution_count": 14,
   "metadata": {},
   "outputs": [],
   "source": [
    "x_train_sub = x_train[top_25_features]\n",
    "x_test_sub = x_test[top_25_features]"
   ]
  },
  {
   "cell_type": "code",
   "execution_count": 15,
   "metadata": {
    "scrolled": true
   },
   "outputs": [
    {
     "data": {
      "text/plain": [
       "{'bootstrap': True,\n",
       " 'ccp_alpha': 0.0,\n",
       " 'class_weight': None,\n",
       " 'criterion': 'gini',\n",
       " 'max_depth': None,\n",
       " 'max_features': 'auto',\n",
       " 'max_leaf_nodes': None,\n",
       " 'max_samples': None,\n",
       " 'min_impurity_decrease': 0.0,\n",
       " 'min_impurity_split': None,\n",
       " 'min_samples_leaf': 1,\n",
       " 'min_samples_split': 2,\n",
       " 'min_weight_fraction_leaf': 0.0,\n",
       " 'n_estimators': 100,\n",
       " 'n_jobs': None,\n",
       " 'oob_score': False,\n",
       " 'random_state': None,\n",
       " 'verbose': 0,\n",
       " 'warm_start': False}"
      ]
     },
     "execution_count": 15,
     "metadata": {},
     "output_type": "execute_result"
    }
   ],
   "source": [
    "clf.get_params()"
   ]
  },
  {
   "cell_type": "code",
   "execution_count": 16,
   "metadata": {},
   "outputs": [],
   "source": [
    "grid_rf = {'n_estimators': [150,200],\n",
    " 'max_features': range(1,5), \n",
    " 'min_samples_leaf': [0.5,1,2],\n",
    " 'min_samples_split': range(2, 5)}"
   ]
  },
  {
   "cell_type": "code",
   "execution_count": 17,
   "metadata": {},
   "outputs": [],
   "source": [
    "rfc = RandomForestClassifier()\n",
    "gs_rf = GridSearchCV(rfc, grid_rf, cv=3, n_jobs=-1)"
   ]
  },
  {
   "cell_type": "code",
   "execution_count": 18,
   "metadata": {},
   "outputs": [
    {
     "data": {
      "text/plain": [
       "GridSearchCV(cv=3, estimator=RandomForestClassifier(), n_jobs=-1,\n",
       "             param_grid={'max_features': range(1, 5),\n",
       "                         'min_samples_leaf': [0.5, 1, 2],\n",
       "                         'min_samples_split': range(2, 5),\n",
       "                         'n_estimators': [150, 200]})"
      ]
     },
     "execution_count": 18,
     "metadata": {},
     "output_type": "execute_result"
    }
   ],
   "source": [
    "gs_rf.fit(x_train_sub, y_train)\n"
   ]
  },
  {
   "cell_type": "code",
   "execution_count": 19,
   "metadata": {
    "scrolled": false
   },
   "outputs": [
    {
     "name": "stdout",
     "output_type": "stream",
     "text": [
      "Best accuracy: 0.787\n",
      "\n",
      "Best params:\n",
      " {'max_features': 4, 'min_samples_leaf': 1, 'min_samples_split': 3, 'n_estimators': 200}\n"
     ]
    }
   ],
   "source": [
    "print('Best accuracy: %.3f' % gs_rf.best_score_)\n",
    "print('\\nBest params:\\n', gs_rf.best_params_)"
   ]
  },
  {
   "cell_type": "code",
   "execution_count": 21,
   "metadata": {},
   "outputs": [
    {
     "name": "stdout",
     "output_type": "stream",
     "text": [
      "training error is  0.0\n"
     ]
    }
   ],
   "source": [
    "y_sub_pred_train=gs_rf.predict(x_train_sub)\n",
    "print(\"training error is \",1- metrics.accuracy_score(y_train, y_sub_pred_train))"
   ]
  },
  {
   "cell_type": "code",
   "execution_count": 20,
   "metadata": {
    "scrolled": true
   },
   "outputs": [
    {
     "name": "stdout",
     "output_type": "stream",
     "text": [
      "testing error is  0.2071713147410359\n"
     ]
    }
   ],
   "source": [
    "y_sub_pred_test=gs_rf.predict(x_test_sub)\n",
    "print(\"testing error is \",1- metrics.accuracy_score(y_test, y_sub_pred_test))"
   ]
  },
  {
   "cell_type": "markdown",
   "metadata": {},
   "source": [
    "## GradientBoostingClassifier"
   ]
  },
  {
   "cell_type": "code",
   "execution_count": 22,
   "metadata": {
    "scrolled": true
   },
   "outputs": [
    {
     "data": {
      "text/plain": [
       "{'ccp_alpha': 0.0,\n",
       " 'criterion': 'friedman_mse',\n",
       " 'init': None,\n",
       " 'learning_rate': 0.1,\n",
       " 'loss': 'deviance',\n",
       " 'max_depth': 3,\n",
       " 'max_features': None,\n",
       " 'max_leaf_nodes': None,\n",
       " 'min_impurity_decrease': 0.0,\n",
       " 'min_impurity_split': None,\n",
       " 'min_samples_leaf': 1,\n",
       " 'min_samples_split': 2,\n",
       " 'min_weight_fraction_leaf': 0.0,\n",
       " 'n_estimators': 100,\n",
       " 'n_iter_no_change': None,\n",
       " 'presort': 'deprecated',\n",
       " 'random_state': None,\n",
       " 'subsample': 1.0,\n",
       " 'tol': 0.0001,\n",
       " 'validation_fraction': 0.1,\n",
       " 'verbose': 0,\n",
       " 'warm_start': False}"
      ]
     },
     "execution_count": 22,
     "metadata": {},
     "output_type": "execute_result"
    }
   ],
   "source": [
    "gradient_booster = GradientBoostingClassifier()\n",
    "gradient_booster.get_params()"
   ]
  },
  {
   "cell_type": "code",
   "execution_count": 23,
   "metadata": {},
   "outputs": [
    {
     "name": "stdout",
     "output_type": "stream",
     "text": [
      "              precision    recall  f1-score   support\n",
      "\n",
      "           0       0.85      0.87      0.86       531\n",
      "           1       0.67      0.63      0.65       222\n",
      "\n",
      "    accuracy                           0.80       753\n",
      "   macro avg       0.76      0.75      0.75       753\n",
      "weighted avg       0.80      0.80      0.80       753\n",
      "\n"
     ]
    }
   ],
   "source": [
    "gradient_booster.fit(x_train_sub,y_train)\n",
    "print(metrics.classification_report(y_test,gradient_booster.predict(x_test_sub)))"
   ]
  },
  {
   "cell_type": "code",
   "execution_count": null,
   "metadata": {},
   "outputs": [],
   "source": []
  },
  {
   "cell_type": "code",
   "execution_count": 24,
   "metadata": {},
   "outputs": [],
   "source": [
    "gbc = GradientBoostingClassifier()\n",
    "parameters = {\n",
    " \"n_estimators\":[150,200],\n",
    " \"max_depth\":[7,8],\n",
    " \"learning_rate\":[0.45,0.5,0.6]\n",
    "}"
   ]
  },
  {
   "cell_type": "code",
   "execution_count": 25,
   "metadata": {},
   "outputs": [
    {
     "data": {
      "text/plain": [
       "GridSearchCV(cv=3, estimator=GradientBoostingClassifier(),\n",
       "             param_grid={'learning_rate': [0.45, 0.5, 0.6], 'max_depth': [7, 8],\n",
       "                         'n_estimators': [150, 200]})"
      ]
     },
     "execution_count": 25,
     "metadata": {},
     "output_type": "execute_result"
    }
   ],
   "source": [
    "gs_gbc = GridSearchCV(gbc, parameters, cv=3)\n",
    "gs_gbc.fit(x_train_sub, y_train)\n"
   ]
  },
  {
   "cell_type": "code",
   "execution_count": 26,
   "metadata": {},
   "outputs": [
    {
     "name": "stdout",
     "output_type": "stream",
     "text": [
      "Best accuracy: 0.783\n",
      "\n",
      "Best params:\n",
      " {'learning_rate': 0.5, 'max_depth': 7, 'n_estimators': 200}\n"
     ]
    }
   ],
   "source": [
    "print('Best accuracy: %.3f' % gs_gbc.best_score_)\n",
    "print('\\nBest params:\\n', gs_gbc.best_params_)\n"
   ]
  },
  {
   "cell_type": "code",
   "execution_count": 28,
   "metadata": {},
   "outputs": [
    {
     "name": "stdout",
     "output_type": "stream",
     "text": [
      "training error is  0.0\n"
     ]
    }
   ],
   "source": [
    "y_sub_pred_train=gs_gbc.predict(x_train_sub)\n",
    "print(\"training error is \",1- metrics.accuracy_score(y_train, y_sub_pred_train))"
   ]
  },
  {
   "cell_type": "code",
   "execution_count": 27,
   "metadata": {},
   "outputs": [
    {
     "name": "stdout",
     "output_type": "stream",
     "text": [
      "testing error is  0.22045152722443562\n"
     ]
    }
   ],
   "source": [
    "y_sub_pred_test=gs_gbc.predict(x_test_sub)\n",
    "print(\"testing error is \",1- metrics.accuracy_score(y_test, y_sub_pred_test))"
   ]
  },
  {
   "cell_type": "code",
   "execution_count": 51,
   "metadata": {},
   "outputs": [
    {
     "data": {
      "text/plain": [
       "[('vote_count', 0.377759930929999),\n",
       " ('budget', 0.18576281759784732),\n",
       " ('runtime', 0.10857972151794422),\n",
       " ('popularity', 0.09471978000935614),\n",
       " ('vote_average', 0.07912055885544857),\n",
       " ('genres_Drama', 0.013264822767673556),\n",
       " ('genres_Science Fiction', 0.012005694612153207),\n",
       " ('genres_Thriller', 0.011015185481864675),\n",
       " ('genres_Family', 0.01083145233225434),\n",
       " ('genres_Music', 0.009704697708682515),\n",
       " ('productions_Paramount Pictures', 0.009053622674207527),\n",
       " ('productions_Twentieth Century Fox Film Corporation', 0.008914436835454353),\n",
       " ('genres_Comedy', 0.008893084039114424),\n",
       " ('genres_Fantasy', 0.008417552763261815),\n",
       " ('genres_Crime', 0.008074279964676757),\n",
       " ('productions_New Line Cinema', 0.007355020996046569),\n",
       " ('genres_Romance', 0.007272028623921858),\n",
       " ('productions_Warner Bros.', 0.0071866967069745035),\n",
       " ('genres_Adventure', 0.006099714960750007),\n",
       " ('genres_Horror', 0.005445212202321668),\n",
       " ('productions_Eon Productions', 0.005353810785653468),\n",
       " ('productions_Universal Pictures', 0.004984656517589689),\n",
       " ('genres_Action', 0.004570183677090035),\n",
       " ('genres_Mystery', 0.004145827365568326),\n",
       " ('productions_United Artists', 0.0014692100741454561)]"
      ]
     },
     "execution_count": 51,
     "metadata": {},
     "output_type": "execute_result"
    }
   ],
   "source": [
    "gbc_feature = list(zip(x_train_sub.columns, gs_gbc.best_estimator_.feature_importances_))\n",
    "gbc_feature = sorted(gbc_feature, key = lambda x: x[1], reverse=True) \n",
    "gbc_feature"
   ]
  },
  {
   "cell_type": "code",
   "execution_count": 59,
   "metadata": {},
   "outputs": [
    {
     "data": {
      "image/png": "[encoded data removed]",
      "text/plain": [
       "<Figure size 1296x720 with 1 Axes>"
      ]
     },
     "metadata": {
      "needs_background": "light"
     },
     "output_type": "display_data"
    }
   ],
   "source": [
    "name = [i[0] for i in gbc_feature]\n",
    "score = [i[1] for i in gbc_feature]\n",
    "\n",
    "\n",
    "plt.subplots(figsize=(18,10)) \n",
    "plt.barh(name[::-1], score[::-1],align='center')\n",
    "plt.show()"
   ]
  },
  {
   "cell_type": "code",
   "execution_count": null,
   "metadata": {},
   "outputs": [],
   "source": [
    "\n",
    "plt.subplots(figsize=(18,10))\n",
    "plt.barh(top_25_features[::-1], feature_imp[:25][::-1])"
   ]
  }
 ],
 "metadata": {
  "kernelspec": {
   "display_name": "Python 3",
   "language": "python",
   "name": "python3"
  },
  "language_info": {
   "codemirror_mode": {
    "name": "ipython",
    "version": 3
   },
   "file_extension": ".py",
   "mimetype": "text/x-python",
   "name": "python",
   "nbconvert_exporter": "python",
   "pygments_lexer": "ipython3",
   "version": "3.8.3"
  }
 },
 "nbformat": 4,
 "nbformat_minor": 5
}
